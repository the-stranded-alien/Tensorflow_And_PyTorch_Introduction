{
 "cells": [
  {
   "cell_type": "code",
   "execution_count": 2,
   "metadata": {},
   "outputs": [],
   "source": [
    "import numpy as np\n",
    "from sklearn.datasets import load_boston\n",
    "from sklearn.model_selection import train_test_split\n",
    "import tensorflow.compat.v1 as tf\n",
    "tf.disable_v2_behavior()"
   ]
  },
  {
   "cell_type": "code",
   "execution_count": 3,
   "metadata": {},
   "outputs": [],
   "source": [
    "boston = load_boston()"
   ]
  },
  {
   "cell_type": "code",
   "execution_count": 4,
   "metadata": {},
   "outputs": [],
   "source": [
    "features = np.array(boston.data)\n",
    "labels = np.array(boston.target)"
   ]
  },
  {
   "cell_type": "code",
   "execution_count": 5,
   "metadata": {},
   "outputs": [
    {
     "name": "stdout",
     "output_type": "stream",
     "text": [
      "(506, 13) (506,)\n"
     ]
    }
   ],
   "source": [
    "print(features.shape, labels.shape)"
   ]
  },
  {
   "cell_type": "code",
   "execution_count": 6,
   "metadata": {},
   "outputs": [
    {
     "name": "stdout",
     "output_type": "stream",
     "text": [
      "(506, 1)\n"
     ]
    }
   ],
   "source": [
    "labels = np.reshape(labels, (-1,1))\n",
    "print(labels.shape)"
   ]
  },
  {
   "cell_type": "code",
   "execution_count": 7,
   "metadata": {},
   "outputs": [],
   "source": [
    "def normalise(data):\n",
    "    # (X - mean(X)) / std(X)\n",
    "    m = np.mean(data)\n",
    "    s = np.std(data)\n",
    "    normalised_data = (data - m)/s\n",
    "    return normalised_data"
   ]
  },
  {
   "cell_type": "code",
   "execution_count": 8,
   "metadata": {},
   "outputs": [],
   "source": [
    "features = normalise(features)\n",
    "labels = normalise(labels)"
   ]
  },
  {
   "cell_type": "code",
   "execution_count": 9,
   "metadata": {},
   "outputs": [
    {
     "name": "stdout",
     "output_type": "stream",
     "text": [
      "(506, 14)\n"
     ]
    }
   ],
   "source": [
    "# features : n_samples x n_features\n",
    "# L.R.\n",
    "# Weight : ((n_features + 1), 1)\n",
    "\n",
    "bias_feature = np.ones(shape=(features.shape[0], 1))\n",
    "\n",
    "features = np.concatenate((bias_feature, features), axis=1)\n",
    "print(features.shape)"
   ]
  },
  {
   "cell_type": "code",
   "execution_count": 10,
   "metadata": {},
   "outputs": [],
   "source": [
    "X_train, X_test, Y_train, Y_test = train_test_split(features, labels, test_size=0.2)"
   ]
  },
  {
   "cell_type": "code",
   "execution_count": 11,
   "metadata": {},
   "outputs": [
    {
     "name": "stdout",
     "output_type": "stream",
     "text": [
      "(404, 14) (404, 1)\n",
      "(102, 14) (102, 1)\n"
     ]
    }
   ],
   "source": [
    "print(X_train.shape, Y_train.shape)\n",
    "print(X_test.shape, Y_test.shape)"
   ]
  },
  {
   "cell_type": "markdown",
   "metadata": {},
   "source": [
    "### Create Model"
   ]
  },
  {
   "cell_type": "code",
   "execution_count": 12,
   "metadata": {},
   "outputs": [],
   "source": [
    "n_samples = features.shape[0]\n",
    "n_features = features.shape[1]\n",
    "num_epochs = 20"
   ]
  },
  {
   "cell_type": "code",
   "execution_count": 13,
   "metadata": {},
   "outputs": [],
   "source": [
    "X = tf.placeholder(dtype=tf.float32, shape=[None, n_features])"
   ]
  },
  {
   "cell_type": "code",
   "execution_count": 14,
   "metadata": {},
   "outputs": [],
   "source": [
    "Y = tf.placeholder(dtype=tf.float32, shape=[None, 1])"
   ]
  },
  {
   "cell_type": "code",
   "execution_count": 15,
   "metadata": {},
   "outputs": [
    {
     "name": "stdout",
     "output_type": "stream",
     "text": [
      "<tf.Variable 'Variable:0' shape=(14, 1) dtype=float32_ref>\n"
     ]
    }
   ],
   "source": [
    "W = tf.Variable(tf.random_normal(shape=(n_features,1)))\n",
    "print(W)"
   ]
  },
  {
   "cell_type": "code",
   "execution_count": 16,
   "metadata": {},
   "outputs": [],
   "source": [
    "y_pred = tf.matmul(X, W)"
   ]
  },
  {
   "cell_type": "code",
   "execution_count": 17,
   "metadata": {},
   "outputs": [],
   "source": [
    "cost = tf.reduce_mean(tf.square(y_pred - Y))"
   ]
  },
  {
   "cell_type": "code",
   "execution_count": 18,
   "metadata": {},
   "outputs": [],
   "source": [
    "opt = tf.train.GradientDescentOptimizer(learning_rate=0.01).minimize(cost)"
   ]
  },
  {
   "cell_type": "code",
   "execution_count": 19,
   "metadata": {},
   "outputs": [
    {
     "name": "stdout",
     "output_type": "stream",
     "text": [
      "Epoch : 1\n",
      "\n",
      "Training Loss Is 13.9167 And Testing Loss Is 11.4770\n",
      "----------------------------------------------------\n",
      "Epoch : 2\n",
      "\n",
      "Training Loss Is 13.0131 And Testing Loss Is 10.6866\n",
      "----------------------------------------------------\n",
      "Epoch : 3\n",
      "\n",
      "Training Loss Is 12.2692 And Testing Loss Is 10.0533\n",
      "----------------------------------------------------\n",
      "Epoch : 4\n",
      "\n",
      "Training Loss Is 11.6266 And Testing Loss Is 9.5169\n",
      "----------------------------------------------------\n",
      "Epoch : 5\n",
      "\n",
      "Training Loss Is 11.0517 And Testing Loss Is 9.0433\n",
      "----------------------------------------------------\n",
      "Epoch : 6\n",
      "\n",
      "Training Loss Is 10.5253 And Testing Loss Is 8.6131\n",
      "----------------------------------------------------\n",
      "Epoch : 7\n",
      "\n",
      "Training Loss Is 10.0360 And Testing Loss Is 8.2151\n",
      "----------------------------------------------------\n",
      "Epoch : 8\n",
      "\n",
      "Training Loss Is 9.5771 And Testing Loss Is 7.8426\n",
      "----------------------------------------------------\n",
      "Epoch : 9\n",
      "\n",
      "Training Loss Is 9.1441 And Testing Loss Is 7.4915\n",
      "----------------------------------------------------\n",
      "Epoch : 10\n",
      "\n",
      "Training Loss Is 8.7343 And Testing Loss Is 7.1592\n",
      "----------------------------------------------------\n",
      "Epoch : 11\n",
      "\n",
      "Training Loss Is 8.3455 And Testing Loss Is 6.8439\n",
      "----------------------------------------------------\n",
      "Epoch : 12\n",
      "\n",
      "Training Loss Is 7.9764 And Testing Loss Is 6.5444\n",
      "----------------------------------------------------\n",
      "Epoch : 13\n",
      "\n",
      "Training Loss Is 7.6256 And Testing Loss Is 6.2595\n",
      "----------------------------------------------------\n",
      "Epoch : 14\n",
      "\n",
      "Training Loss Is 7.2920 And Testing Loss Is 5.9885\n",
      "----------------------------------------------------\n",
      "Epoch : 15\n",
      "\n",
      "Training Loss Is 6.9749 And Testing Loss Is 5.7305\n",
      "----------------------------------------------------\n",
      "Epoch : 16\n",
      "\n",
      "Training Loss Is 6.6732 And Testing Loss Is 5.4849\n",
      "----------------------------------------------------\n",
      "Epoch : 17\n",
      "\n",
      "Training Loss Is 6.3863 And Testing Loss Is 5.2511\n",
      "----------------------------------------------------\n",
      "Epoch : 18\n",
      "\n",
      "Training Loss Is 6.1133 And Testing Loss Is 5.0285\n",
      "----------------------------------------------------\n",
      "Epoch : 19\n",
      "\n",
      "Training Loss Is 5.8537 And Testing Loss Is 4.8166\n",
      "----------------------------------------------------\n",
      "Epoch : 20\n",
      "\n",
      "Training Loss Is 5.6067 And Testing Loss Is 4.6147\n",
      "----------------------------------------------------\n"
     ]
    }
   ],
   "source": [
    "with tf.Session() as sess:\n",
    "    sess.run(tf.global_variables_initializer())\n",
    "    for epoch in range(num_epochs):\n",
    "        \n",
    "        sess.run(opt, feed_dict = {\n",
    "            X: X_train,\n",
    "            Y: Y_train\n",
    "        })\n",
    "        \n",
    "        train_loss = sess.run(cost, feed_dict = {\n",
    "            X: X_train,\n",
    "            Y: Y_train\n",
    "        })\n",
    "        \n",
    "        test_loss = sess.run(cost, feed_dict = {\n",
    "            X: X_test,\n",
    "            Y: Y_test\n",
    "        })\n",
    "        \n",
    "        print(\"Epoch : {}\\n\".format(epoch+1))\n",
    "        print(\"Training Loss Is {:.04f} And Testing Loss Is {:.04f}\".format(train_loss, test_loss))\n",
    "        print(\"----------------------------------------------------\")"
   ]
  }
 ],
 "metadata": {
  "kernelspec": {
   "display_name": "Python 3",
   "language": "python",
   "name": "python3"
  },
  "language_info": {
   "codemirror_mode": {
    "name": "ipython",
    "version": 3
   },
   "file_extension": ".py",
   "mimetype": "text/x-python",
   "name": "python",
   "nbconvert_exporter": "python",
   "pygments_lexer": "ipython3",
   "version": "3.7.7"
  }
 },
 "nbformat": 4,
 "nbformat_minor": 2
}
