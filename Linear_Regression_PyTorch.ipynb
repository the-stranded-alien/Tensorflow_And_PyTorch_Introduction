{
  "nbformat": 4,
  "nbformat_minor": 0,
  "metadata": {
    "colab": {
      "name": "Linear_Regression_PyTorch.ipynb",
      "provenance": [],
      "collapsed_sections": []
    },
    "kernelspec": {
      "name": "python3",
      "display_name": "Python 3"
    }
  },
  "cells": [
    {
      "cell_type": "code",
      "metadata": {
        "id": "rH3kqW0NDZJ3",
        "colab_type": "code",
        "colab": {}
      },
      "source": [
        "import numpy as np\n",
        "import matplotlib.pyplot as plt\n",
        "import seaborn as sns"
      ],
      "execution_count": 2,
      "outputs": []
    },
    {
      "cell_type": "code",
      "metadata": {
        "id": "6ADWirfGDlib",
        "colab_type": "code",
        "colab": {}
      },
      "source": [
        "data = np.random.multivariate_normal([3,4],[[1,0.7],[0.7,1]], size=200)\n",
        "x = data[:,0]\n",
        "y = data[:,1]"
      ],
      "execution_count": 3,
      "outputs": []
    },
    {
      "cell_type": "code",
      "metadata": {
        "id": "GW-ShqTUD2QU",
        "colab_type": "code",
        "colab": {
          "base_uri": "https://localhost:8080/",
          "height": 265
        },
        "outputId": "84510c80-7e3a-4e50-f174-33fe5432af7d"
      },
      "source": [
        "plt.scatter(x,y,color='g')\n",
        "plt.show()"
      ],
      "execution_count": 4,
      "outputs": [
        {
          "output_type": "display_data",
          "data": {
            "image/png": "[encoded data removed]",
            "text/plain": [
              "<Figure size 432x288 with 1 Axes>"
            ]
          },
          "metadata": {
            "tags": [],
            "needs_background": "light"
          }
        }
      ]
    },
    {
      "cell_type": "code",
      "metadata": {
        "id": "JZlXygKBEVMi",
        "colab_type": "code",
        "colab": {}
      },
      "source": [
        "import torch"
      ],
      "execution_count": 5,
      "outputs": []
    },
    {
      "cell_type": "code",
      "metadata": {
        "id": "M-nvjvDEEe9d",
        "colab_type": "code",
        "colab": {}
      },
      "source": [
        "x,y = torch.tensor(x), torch.tensor(y)"
      ],
      "execution_count": 6,
      "outputs": []
    },
    {
      "cell_type": "code",
      "metadata": {
        "id": "-9Yyv9snEjOO",
        "colab_type": "code",
        "colab": {}
      },
      "source": [
        "m = torch.nn.Parameter(data=torch.randn(1))\n",
        "c = torch.nn.Parameter(data=torch.randn(1))"
      ],
      "execution_count": 7,
      "outputs": []
    },
    {
      "cell_type": "code",
      "metadata": {
        "id": "jwdopMBgEumj",
        "colab_type": "code",
        "colab": {}
      },
      "source": [
        "y_pred = m*x + c"
      ],
      "execution_count": 8,
      "outputs": []
    },
    {
      "cell_type": "code",
      "metadata": {
        "id": "BugK1EkRFJMT",
        "colab_type": "code",
        "colab": {
          "base_uri": "https://localhost:8080/",
          "height": 265
        },
        "outputId": "4638e69d-ac20-4ae2-e803-55666610e18c"
      },
      "source": [
        "plt.scatter(x.numpy(),y.numpy(),color='g')\n",
        "plt.scatter(x.numpy(),y_pred.detach().numpy(),color='b')\n",
        "plt.show()"
      ],
      "execution_count": 9,
      "outputs": [
        {
          "output_type": "display_data",
          "data": {
            "image/png": "[encoded data removed]",
            "text/plain": [
              "<Figure size 432x288 with 1 Axes>"
            ]
          },
          "metadata": {
            "tags": [],
            "needs_background": "light"
          }
        }
      ]
    },
    {
      "cell_type": "code",
      "metadata": {
        "id": "JZwliidWFZFa",
        "colab_type": "code",
        "colab": {}
      },
      "source": [
        "def mse(y_pred, y_true):\n",
        "  return ((y_pred - y_true)**2).mean()"
      ],
      "execution_count": 10,
      "outputs": []
    },
    {
      "cell_type": "code",
      "metadata": {
        "id": "GViEYaqCFxwf",
        "colab_type": "code",
        "colab": {
          "base_uri": "https://localhost:8080/",
          "height": 34
        },
        "outputId": "4c9a6de0-9626-404e-8cbe-fd46cd88b7f1"
      },
      "source": [
        "print(mse(y_pred, y))"
      ],
      "execution_count": 11,
      "outputs": [
        {
          "output_type": "stream",
          "text": [
            "tensor(2.0069, dtype=torch.float64, grad_fn=<MeanBackward0>)\n"
          ],
          "name": "stdout"
        }
      ]
    },
    {
      "cell_type": "code",
      "metadata": {
        "id": "e8J0yECCF1tv",
        "colab_type": "code",
        "colab": {
          "base_uri": "https://localhost:8080/",
          "height": 1000
        },
        "outputId": "f9385050-331e-44a1-c83a-870ab98ce4da"
      },
      "source": [
        "for i in range(100):\n",
        "  y_pre = m*x + c\n",
        "  lr = 1e-3\n",
        "\n",
        "  loss = mse(y_pre, y)\n",
        "\n",
        "  loss.backward()\n",
        "  print(loss)\n",
        "  with torch.no_grad():\n",
        "    m -= lr*m.grad\n",
        "    c -= lr*c.grad\n",
        "    m.grad.zero_()\n",
        "    c.grad.zero_()"
      ],
      "execution_count": 12,
      "outputs": [
        {
          "output_type": "stream",
          "text": [
            "tensor(2.0069, dtype=torch.float64, grad_fn=<MeanBackward0>)\n",
            "tensor(1.9681, dtype=torch.float64, grad_fn=<MeanBackward0>)\n",
            "tensor(1.9311, dtype=torch.float64, grad_fn=<MeanBackward0>)\n",
            "tensor(1.8957, dtype=torch.float64, grad_fn=<MeanBackward0>)\n",
            "tensor(1.8619, dtype=torch.float64, grad_fn=<MeanBackward0>)\n",
            "tensor(1.8296, dtype=torch.float64, grad_fn=<MeanBackward0>)\n",
            "tensor(1.7987, dtype=torch.float64, grad_fn=<MeanBackward0>)\n",
            "tensor(1.7691, dtype=torch.float64, grad_fn=<MeanBackward0>)\n",
            "tensor(1.7408, dtype=torch.float64, grad_fn=<MeanBackward0>)\n",
            "tensor(1.7138, dtype=torch.float64, grad_fn=<MeanBackward0>)\n",
            "tensor(1.6880, dtype=torch.float64, grad_fn=<MeanBackward0>)\n",
            "tensor(1.6633, dtype=torch.float64, grad_fn=<MeanBackward0>)\n",
            "tensor(1.6397, dtype=torch.float64, grad_fn=<MeanBackward0>)\n",
            "tensor(1.6172, dtype=torch.float64, grad_fn=<MeanBackward0>)\n",
            "tensor(1.5956, dtype=torch.float64, grad_fn=<MeanBackward0>)\n",
            "tensor(1.5750, dtype=torch.float64, grad_fn=<MeanBackward0>)\n",
            "tensor(1.5552, dtype=torch.float64, grad_fn=<MeanBackward0>)\n",
            "tensor(1.5364, dtype=torch.float64, grad_fn=<MeanBackward0>)\n",
            "tensor(1.5183, dtype=torch.float64, grad_fn=<MeanBackward0>)\n",
            "tensor(1.5011, dtype=torch.float64, grad_fn=<MeanBackward0>)\n",
            "tensor(1.4846, dtype=torch.float64, grad_fn=<MeanBackward0>)\n",
            "tensor(1.4688, dtype=torch.float64, grad_fn=<MeanBackward0>)\n",
            "tensor(1.4538, dtype=torch.float64, grad_fn=<MeanBackward0>)\n",
            "tensor(1.4393, dtype=torch.float64, grad_fn=<MeanBackward0>)\n",
            "tensor(1.4255, dtype=torch.float64, grad_fn=<MeanBackward0>)\n",
            "tensor(1.4123, dtype=torch.float64, grad_fn=<MeanBackward0>)\n",
            "tensor(1.3997, dtype=torch.float64, grad_fn=<MeanBackward0>)\n",
            "tensor(1.3877, dtype=torch.float64, grad_fn=<MeanBackward0>)\n",
            "tensor(1.3761, dtype=torch.float64, grad_fn=<MeanBackward0>)\n",
            "tensor(1.3651, dtype=torch.float64, grad_fn=<MeanBackward0>)\n",
            "tensor(1.3545, dtype=torch.float64, grad_fn=<MeanBackward0>)\n",
            "tensor(1.3444, dtype=torch.float64, grad_fn=<MeanBackward0>)\n",
            "tensor(1.3348, dtype=torch.float64, grad_fn=<MeanBackward0>)\n",
            "tensor(1.3255, dtype=torch.float64, grad_fn=<MeanBackward0>)\n",
            "tensor(1.3167, dtype=torch.float64, grad_fn=<MeanBackward0>)\n",
            "tensor(1.3082, dtype=torch.float64, grad_fn=<MeanBackward0>)\n",
            "tensor(1.3001, dtype=torch.float64, grad_fn=<MeanBackward0>)\n",
            "tensor(1.2924, dtype=torch.float64, grad_fn=<MeanBackward0>)\n",
            "tensor(1.2849, dtype=torch.float64, grad_fn=<MeanBackward0>)\n",
            "tensor(1.2779, dtype=torch.float64, grad_fn=<MeanBackward0>)\n",
            "tensor(1.2711, dtype=torch.float64, grad_fn=<MeanBackward0>)\n",
            "tensor(1.2646, dtype=torch.float64, grad_fn=<MeanBackward0>)\n",
            "tensor(1.2583, dtype=torch.float64, grad_fn=<MeanBackward0>)\n",
            "tensor(1.2524, dtype=torch.float64, grad_fn=<MeanBackward0>)\n",
            "tensor(1.2467, dtype=torch.float64, grad_fn=<MeanBackward0>)\n",
            "tensor(1.2412, dtype=torch.float64, grad_fn=<MeanBackward0>)\n",
            "tensor(1.2360, dtype=torch.float64, grad_fn=<MeanBackward0>)\n",
            "tensor(1.2310, dtype=torch.float64, grad_fn=<MeanBackward0>)\n",
            "tensor(1.2262, dtype=torch.float64, grad_fn=<MeanBackward0>)\n",
            "tensor(1.2216, dtype=torch.float64, grad_fn=<MeanBackward0>)\n",
            "tensor(1.2172, dtype=torch.float64, grad_fn=<MeanBackward0>)\n",
            "tensor(1.2130, dtype=torch.float64, grad_fn=<MeanBackward0>)\n",
            "tensor(1.2090, dtype=torch.float64, grad_fn=<MeanBackward0>)\n",
            "tensor(1.2051, dtype=torch.float64, grad_fn=<MeanBackward0>)\n",
            "tensor(1.2014, dtype=torch.float64, grad_fn=<MeanBackward0>)\n",
            "tensor(1.1978, dtype=torch.float64, grad_fn=<MeanBackward0>)\n",
            "tensor(1.1944, dtype=torch.float64, grad_fn=<MeanBackward0>)\n",
            "tensor(1.1912, dtype=torch.float64, grad_fn=<MeanBackward0>)\n",
            "tensor(1.1881, dtype=torch.float64, grad_fn=<MeanBackward0>)\n",
            "tensor(1.1851, dtype=torch.float64, grad_fn=<MeanBackward0>)\n",
            "tensor(1.1822, dtype=torch.float64, grad_fn=<MeanBackward0>)\n",
            "tensor(1.1794, dtype=torch.float64, grad_fn=<MeanBackward0>)\n",
            "tensor(1.1768, dtype=torch.float64, grad_fn=<MeanBackward0>)\n",
            "tensor(1.1742, dtype=torch.float64, grad_fn=<MeanBackward0>)\n",
            "tensor(1.1718, dtype=torch.float64, grad_fn=<MeanBackward0>)\n",
            "tensor(1.1695, dtype=torch.float64, grad_fn=<MeanBackward0>)\n",
            "tensor(1.1672, dtype=torch.float64, grad_fn=<MeanBackward0>)\n",
            "tensor(1.1651, dtype=torch.float64, grad_fn=<MeanBackward0>)\n",
            "tensor(1.1630, dtype=torch.float64, grad_fn=<MeanBackward0>)\n",
            "tensor(1.1610, dtype=torch.float64, grad_fn=<MeanBackward0>)\n",
            "tensor(1.1591, dtype=torch.float64, grad_fn=<MeanBackward0>)\n",
            "tensor(1.1573, dtype=torch.float64, grad_fn=<MeanBackward0>)\n",
            "tensor(1.1555, dtype=torch.float64, grad_fn=<MeanBackward0>)\n",
            "tensor(1.1538, dtype=torch.float64, grad_fn=<MeanBackward0>)\n",
            "tensor(1.1522, dtype=torch.float64, grad_fn=<MeanBackward0>)\n",
            "tensor(1.1506, dtype=torch.float64, grad_fn=<MeanBackward0>)\n",
            "tensor(1.1491, dtype=torch.float64, grad_fn=<MeanBackward0>)\n",
            "tensor(1.1477, dtype=torch.float64, grad_fn=<MeanBackward0>)\n",
            "tensor(1.1463, dtype=torch.float64, grad_fn=<MeanBackward0>)\n",
            "tensor(1.1449, dtype=torch.float64, grad_fn=<MeanBackward0>)\n",
            "tensor(1.1436, dtype=torch.float64, grad_fn=<MeanBackward0>)\n",
            "tensor(1.1424, dtype=torch.float64, grad_fn=<MeanBackward0>)\n",
            "tensor(1.1412, dtype=torch.float64, grad_fn=<MeanBackward0>)\n",
            "tensor(1.1400, dtype=torch.float64, grad_fn=<MeanBackward0>)\n",
            "tensor(1.1389, dtype=torch.float64, grad_fn=<MeanBackward0>)\n",
            "tensor(1.1379, dtype=torch.float64, grad_fn=<MeanBackward0>)\n",
            "tensor(1.1368, dtype=torch.float64, grad_fn=<MeanBackward0>)\n",
            "tensor(1.1358, dtype=torch.float64, grad_fn=<MeanBackward0>)\n",
            "tensor(1.1349, dtype=torch.float64, grad_fn=<MeanBackward0>)\n",
            "tensor(1.1339, dtype=torch.float64, grad_fn=<MeanBackward0>)\n",
            "tensor(1.1330, dtype=torch.float64, grad_fn=<MeanBackward0>)\n",
            "tensor(1.1321, dtype=torch.float64, grad_fn=<MeanBackward0>)\n",
            "tensor(1.1313, dtype=torch.float64, grad_fn=<MeanBackward0>)\n",
            "tensor(1.1305, dtype=torch.float64, grad_fn=<MeanBackward0>)\n",
            "tensor(1.1297, dtype=torch.float64, grad_fn=<MeanBackward0>)\n",
            "tensor(1.1289, dtype=torch.float64, grad_fn=<MeanBackward0>)\n",
            "tensor(1.1282, dtype=torch.float64, grad_fn=<MeanBackward0>)\n",
            "tensor(1.1275, dtype=torch.float64, grad_fn=<MeanBackward0>)\n",
            "tensor(1.1268, dtype=torch.float64, grad_fn=<MeanBackward0>)\n",
            "tensor(1.1261, dtype=torch.float64, grad_fn=<MeanBackward0>)\n"
          ],
          "name": "stdout"
        }
      ]
    },
    {
      "cell_type": "code",
      "metadata": {
        "id": "xAfTFueVG5T8",
        "colab_type": "code",
        "colab": {
          "base_uri": "https://localhost:8080/",
          "height": 265
        },
        "outputId": "579076d6-99c6-435e-9ff1-5070e61ad58f"
      },
      "source": [
        "plt.scatter(x.numpy(),y.numpy(),color='g')\n",
        "plt.scatter(x.numpy(),y_pre.detach().numpy(),color='b')\n",
        "plt.show()"
      ],
      "execution_count": 13,
      "outputs": [
        {
          "output_type": "display_data",
          "data": {
            "image/png": "[encoded data removed]",
            "text/plain": [
              "<Figure size 432x288 with 1 Axes>"
            ]
          },
          "metadata": {
            "tags": [],
            "needs_background": "light"
          }
        }
      ]
    }
  ]
}